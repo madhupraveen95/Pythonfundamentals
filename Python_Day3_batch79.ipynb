{
 "cells": [
  {
   "cell_type": "code",
   "execution_count": 22,
   "id": "8155508b",
   "metadata": {},
   "outputs": [
    {
     "name": "stdout",
     "output_type": "stream",
     "text": [
      "praveen madhu\n"
     ]
    }
   ],
   "source": [
    "firstname='praveen'\n",
    "lastname='madhu'\n",
    "  #syntax of F strings\n",
    "  #    f.strings:\n",
    "  #  f\"custom message,{placeholder1}{placeholder2}....{placeholder_n}\"\n",
    "fullname=f\"{firstname} {lastname}\"\n",
    "print(fullname)"
   ]
  },
  {
   "cell_type": "code",
   "execution_count": 23,
   "id": "d7f08a74",
   "metadata": {},
   "outputs": [
    {
     "name": "stdout",
     "output_type": "stream",
     "text": [
      "keep it up ,praveen madhu\n"
     ]
    }
   ],
   "source": [
    "message=f\"keep it up ,{fullname}\"\n",
    "print(message)"
   ]
  },
  {
   "cell_type": "code",
   "execution_count": 24,
   "id": "3e71a556",
   "metadata": {},
   "outputs": [
    {
     "name": "stdout",
     "output_type": "stream",
     "text": [
      " keep it up ,Praveen Madhu\n"
     ]
    }
   ],
   "source": [
    "message=f\" keep it up ,{fullname.title()}\"\n",
    "print(message)"
   ]
  },
  {
   "cell_type": "markdown",
   "id": "74a62cc8",
   "metadata": {},
   "source": [
    "upper=f\"good work,{fullname.upper()}\"\n",
    "print(upper)"
   ]
  },
  {
   "cell_type": "code",
   "execution_count": 25,
   "id": "a81064c0",
   "metadata": {},
   "outputs": [
    {
     "name": "stdout",
     "output_type": "stream",
     "text": [
      "good work,PRAVEEN MADHU\n"
     ]
    }
   ],
   "source": [
    "upper=f\"good work,{fullname.upper()}\" \n",
    "print(upper)"
   ]
  },
  {
   "cell_type": "code",
   "execution_count": 27,
   "id": "3e96cfea",
   "metadata": {},
   "outputs": [
    {
     "name": "stdout",
     "output_type": "stream",
     "text": [
      "list:CJavaPython\n"
     ]
    }
   ],
   "source": [
    "#adding whitespaces \\n , \\t\n",
    "print(\"list:CJavaPython\")"
   ]
  },
  {
   "cell_type": "code",
   "execution_count": 28,
   "id": "08ff6202",
   "metadata": {},
   "outputs": [
    {
     "name": "stdout",
     "output_type": "stream",
     "text": [
      "list:\n",
      "C\n",
      "Java\n",
      "Python\n"
     ]
    }
   ],
   "source": [
    "print(\"list:\\nC\\nJava\\nPython\")"
   ]
  },
  {
   "cell_type": "code",
   "execution_count": 30,
   "id": "c9add788",
   "metadata": {},
   "outputs": [
    {
     "name": "stdout",
     "output_type": "stream",
     "text": [
      "list:\n",
      "\tC\n",
      "\tJava\t\n",
      "Python\n"
     ]
    }
   ],
   "source": [
    "print(\"list:\\n\\tC\\n\\tJava\\t\\nPython\")"
   ]
  },
  {
   "cell_type": "code",
   "execution_count": 31,
   "id": "b6454def",
   "metadata": {},
   "outputs": [
    {
     "name": "stdout",
     "output_type": "stream",
     "text": [
      "list:\n",
      "\tC\n",
      "\tJava\n",
      "\tPython\n"
     ]
    }
   ],
   "source": [
    "print(\"list:\\n\\tC\\n\\tJava\\n\\tPython\")"
   ]
  },
  {
   "cell_type": "code",
   "execution_count": 46,
   "id": "a91067c5",
   "metadata": {},
   "outputs": [
    {
     "name": "stdout",
     "output_type": "stream",
     "text": [
      "  python     is life    \n",
      "is\n"
     ]
    }
   ],
   "source": [
    "#\"\"\"\"\n",
    "#remove White spaces with \n",
    "#strip() -->to remove on both sides \n",
    "#strip() --> for left \n",
    "#strip()--> for right\n",
    "#\"\"\"\"\n",
    "Lang1=\"  python  \"\n",
    "Lang2=\"  is\"\n",
    "Lang3=\"life    \"\n",
    "print(Lang1,Lang2,Lang3)\n",
    "print(Lang2.lstrip())"
   ]
  },
  {
   "cell_type": "code",
   "execution_count": 42,
   "id": "4accdc03",
   "metadata": {},
   "outputs": [
    {
     "data": {
      "text/plain": [
       "'life'"
      ]
     },
     "execution_count": 42,
     "metadata": {},
     "output_type": "execute_result"
    }
   ],
   "source": [
    "#now we are using the strip \n",
    "Lang1.strip()\n",
    "Lang2.lstrip()\n",
    "Lang3.rstrip()\n"
   ]
  },
  {
   "cell_type": "code",
   "execution_count": null,
   "id": "92f8d65b",
   "metadata": {},
   "outputs": [],
   "source": []
  }
 ],
 "metadata": {
  "kernelspec": {
   "display_name": "Python 3 (ipykernel)",
   "language": "python",
   "name": "python3"
  },
  "language_info": {
   "codemirror_mode": {
    "name": "ipython",
    "version": 3
   },
   "file_extension": ".py",
   "mimetype": "text/x-python",
   "name": "python",
   "nbconvert_exporter": "python",
   "pygments_lexer": "ipython3",
   "version": "3.10.9"
  }
 },
 "nbformat": 4,
 "nbformat_minor": 5
}
